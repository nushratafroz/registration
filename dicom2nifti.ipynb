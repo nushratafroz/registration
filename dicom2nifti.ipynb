{
 "cells": [
  {
   "cell_type": "code",
   "execution_count": 5,
   "id": "996830ee",
   "metadata": {},
   "outputs": [],
   "source": [
    "import dicom2nifti\n",
    "import os\n",
    "from glob2 import glob\n",
    "\n"
   ]
  },
  {
   "cell_type": "code",
   "execution_count": 17,
   "id": "313274c6",
   "metadata": {},
   "outputs": [
    {
     "ename": "ConversionError",
     "evalue": "NOT_A_VOLUME",
     "output_type": "error",
     "traceback": [
      "\u001b[1;31m---------------------------------------------------------------------------\u001b[0m",
      "\u001b[1;31mConversionError\u001b[0m                           Traceback (most recent call last)",
      "\u001b[1;32m<ipython-input-17-8d8ec0a8b1d3>\u001b[0m in \u001b[0;36m<module>\u001b[1;34m\u001b[0m\n\u001b[0;32m      8\u001b[0m \u001b[1;33m\u001b[0m\u001b[0m\n\u001b[0;32m      9\u001b[0m \u001b[1;32mfor\u001b[0m \u001b[0mi\u001b[0m\u001b[1;33m,\u001b[0m\u001b[0mpatient\u001b[0m \u001b[1;32min\u001b[0m  \u001b[0menumerate\u001b[0m\u001b[1;33m(\u001b[0m\u001b[0mglob\u001b[0m\u001b[1;33m(\u001b[0m\u001b[0mpath\u001b[0m\u001b[1;33m)\u001b[0m\u001b[1;33m)\u001b[0m\u001b[1;33m:\u001b[0m\u001b[1;33m\u001b[0m\u001b[1;33m\u001b[0m\u001b[0m\n\u001b[1;32m---> 10\u001b[1;33m     \u001b[0mdicom2nifti\u001b[0m\u001b[1;33m.\u001b[0m\u001b[0mdicom_series_to_nifti\u001b[0m\u001b[1;33m(\u001b[0m\u001b[0mpatient\u001b[0m\u001b[1;33m,\u001b[0m \u001b[0mos\u001b[0m\u001b[1;33m.\u001b[0m\u001b[0mpath\u001b[0m\u001b[1;33m.\u001b[0m\u001b[0mjoin\u001b[0m\u001b[1;33m(\u001b[0m\u001b[0mpath_out_data\u001b[0m\u001b[1;33m,\u001b[0m \u001b[1;34m'0000'\u001b[0m\u001b[1;33m+\u001b[0m\u001b[0mstr\u001b[0m\u001b[1;33m(\u001b[0m\u001b[0mi\u001b[0m\u001b[1;33m+\u001b[0m\u001b[1;36m1\u001b[0m\u001b[1;33m)\u001b[0m\u001b[1;33m+\u001b[0m\u001b[1;34m'.nii'\u001b[0m\u001b[1;33m)\u001b[0m\u001b[1;33m)\u001b[0m\u001b[1;33m\u001b[0m\u001b[1;33m\u001b[0m\u001b[0m\n\u001b[0m",
      "\u001b[1;32m~\\anaconda3\\envs\\dicom_env\\lib\\site-packages\\dicom2nifti\\convert_dicom.py\u001b[0m in \u001b[0;36mdicom_series_to_nifti\u001b[1;34m(original_dicom_directory, output_file, reorient_nifti)\u001b[0m\n\u001b[0;32m     75\u001b[0m         \u001b[0mdicom_input\u001b[0m \u001b[1;33m=\u001b[0m \u001b[0mcommon\u001b[0m\u001b[1;33m.\u001b[0m\u001b[0mread_dicom_directory\u001b[0m\u001b[1;33m(\u001b[0m\u001b[0mdicom_directory\u001b[0m\u001b[1;33m)\u001b[0m\u001b[1;33m\u001b[0m\u001b[1;33m\u001b[0m\u001b[0m\n\u001b[0;32m     76\u001b[0m \u001b[1;33m\u001b[0m\u001b[0m\n\u001b[1;32m---> 77\u001b[1;33m         \u001b[1;32mreturn\u001b[0m \u001b[0mdicom_array_to_nifti\u001b[0m\u001b[1;33m(\u001b[0m\u001b[0mdicom_input\u001b[0m\u001b[1;33m,\u001b[0m \u001b[0moutput_file\u001b[0m\u001b[1;33m,\u001b[0m \u001b[0mreorient_nifti\u001b[0m\u001b[1;33m)\u001b[0m\u001b[1;33m\u001b[0m\u001b[1;33m\u001b[0m\u001b[0m\n\u001b[0m\u001b[0;32m     78\u001b[0m \u001b[1;33m\u001b[0m\u001b[0m\n\u001b[0;32m     79\u001b[0m     \u001b[1;32mexcept\u001b[0m \u001b[0mAttributeError\u001b[0m \u001b[1;32mas\u001b[0m \u001b[0mexception\u001b[0m\u001b[1;33m:\u001b[0m\u001b[1;33m\u001b[0m\u001b[1;33m\u001b[0m\u001b[0m\n",
      "\u001b[1;32m~\\anaconda3\\envs\\dicom_env\\lib\\site-packages\\dicom2nifti\\convert_dicom.py\u001b[0m in \u001b[0;36mdicom_array_to_nifti\u001b[1;34m(dicom_list, output_file, reorient_nifti)\u001b[0m\n\u001b[0;32m    119\u001b[0m         \u001b[0mresults\u001b[0m \u001b[1;33m=\u001b[0m \u001b[0mconvert_siemens\u001b[0m\u001b[1;33m.\u001b[0m\u001b[0mdicom_to_nifti\u001b[0m\u001b[1;33m(\u001b[0m\u001b[0mdicom_list\u001b[0m\u001b[1;33m,\u001b[0m \u001b[0moutput_file\u001b[0m\u001b[1;33m)\u001b[0m\u001b[1;33m\u001b[0m\u001b[1;33m\u001b[0m\u001b[0m\n\u001b[0;32m    120\u001b[0m     \u001b[1;32melif\u001b[0m \u001b[0mvendor\u001b[0m \u001b[1;33m==\u001b[0m \u001b[0mVendor\u001b[0m\u001b[1;33m.\u001b[0m\u001b[0mGE\u001b[0m\u001b[1;33m:\u001b[0m\u001b[1;33m\u001b[0m\u001b[1;33m\u001b[0m\u001b[0m\n\u001b[1;32m--> 121\u001b[1;33m         \u001b[0mresults\u001b[0m \u001b[1;33m=\u001b[0m \u001b[0mconvert_ge\u001b[0m\u001b[1;33m.\u001b[0m\u001b[0mdicom_to_nifti\u001b[0m\u001b[1;33m(\u001b[0m\u001b[0mdicom_list\u001b[0m\u001b[1;33m,\u001b[0m \u001b[0moutput_file\u001b[0m\u001b[1;33m)\u001b[0m\u001b[1;33m\u001b[0m\u001b[1;33m\u001b[0m\u001b[0m\n\u001b[0m\u001b[0;32m    122\u001b[0m     \u001b[1;32melif\u001b[0m \u001b[0mvendor\u001b[0m \u001b[1;33m==\u001b[0m \u001b[0mVendor\u001b[0m\u001b[1;33m.\u001b[0m\u001b[0mPHILIPS\u001b[0m\u001b[1;33m:\u001b[0m\u001b[1;33m\u001b[0m\u001b[1;33m\u001b[0m\u001b[0m\n\u001b[0;32m    123\u001b[0m         \u001b[0mresults\u001b[0m \u001b[1;33m=\u001b[0m \u001b[0mconvert_philips\u001b[0m\u001b[1;33m.\u001b[0m\u001b[0mdicom_to_nifti\u001b[0m\u001b[1;33m(\u001b[0m\u001b[0mdicom_list\u001b[0m\u001b[1;33m,\u001b[0m \u001b[0moutput_file\u001b[0m\u001b[1;33m)\u001b[0m\u001b[1;33m\u001b[0m\u001b[1;33m\u001b[0m\u001b[0m\n",
      "\u001b[1;32m~\\anaconda3\\envs\\dicom_env\\lib\\site-packages\\dicom2nifti\\convert_ge.py\u001b[0m in \u001b[0;36mdicom_to_nifti\u001b[1;34m(dicom_input, output_file)\u001b[0m\n\u001b[0;32m     49\u001b[0m     \u001b[1;32mif\u001b[0m \u001b[0m_is_4d\u001b[0m\u001b[1;33m(\u001b[0m\u001b[0mgrouped_dicoms\u001b[0m\u001b[1;33m)\u001b[0m\u001b[1;33m:\u001b[0m\u001b[1;33m\u001b[0m\u001b[1;33m\u001b[0m\u001b[0m\n\u001b[0;32m     50\u001b[0m         \u001b[0mlogger\u001b[0m\u001b[1;33m.\u001b[0m\u001b[0minfo\u001b[0m\u001b[1;33m(\u001b[0m\u001b[1;34m'Found sequence type: 4D'\u001b[0m\u001b[1;33m)\u001b[0m\u001b[1;33m\u001b[0m\u001b[1;33m\u001b[0m\u001b[0m\n\u001b[1;32m---> 51\u001b[1;33m         \u001b[1;32mreturn\u001b[0m \u001b[0m_4d_to_nifti\u001b[0m\u001b[1;33m(\u001b[0m\u001b[0mgrouped_dicoms\u001b[0m\u001b[1;33m,\u001b[0m \u001b[0moutput_file\u001b[0m\u001b[1;33m)\u001b[0m\u001b[1;33m\u001b[0m\u001b[1;33m\u001b[0m\u001b[0m\n\u001b[0m\u001b[0;32m     52\u001b[0m \u001b[1;33m\u001b[0m\u001b[0m\n\u001b[0;32m     53\u001b[0m     \u001b[0mlogger\u001b[0m\u001b[1;33m.\u001b[0m\u001b[0minfo\u001b[0m\u001b[1;33m(\u001b[0m\u001b[1;34m'Assuming anatomical data'\u001b[0m\u001b[1;33m)\u001b[0m\u001b[1;33m\u001b[0m\u001b[1;33m\u001b[0m\u001b[0m\n",
      "\u001b[1;32m~\\anaconda3\\envs\\dicom_env\\lib\\site-packages\\dicom2nifti\\convert_ge.py\u001b[0m in \u001b[0;36m_4d_to_nifti\u001b[1;34m(grouped_dicoms, output_file)\u001b[0m\n\u001b[0;32m    102\u001b[0m     \u001b[0mlogger\u001b[0m\u001b[1;33m.\u001b[0m\u001b[0minfo\u001b[0m\u001b[1;33m(\u001b[0m\u001b[1;34m'Creating affine'\u001b[0m\u001b[1;33m)\u001b[0m\u001b[1;33m\u001b[0m\u001b[1;33m\u001b[0m\u001b[0m\n\u001b[0;32m    103\u001b[0m     \u001b[1;31m# Create the nifti header info\u001b[0m\u001b[1;33m\u001b[0m\u001b[1;33m\u001b[0m\u001b[1;33m\u001b[0m\u001b[0m\n\u001b[1;32m--> 104\u001b[1;33m     \u001b[0maffine\u001b[0m\u001b[1;33m,\u001b[0m \u001b[0mslice_increment\u001b[0m \u001b[1;33m=\u001b[0m \u001b[0mcommon\u001b[0m\u001b[1;33m.\u001b[0m\u001b[0mcreate_affine\u001b[0m\u001b[1;33m(\u001b[0m\u001b[0mgrouped_dicoms\u001b[0m\u001b[1;33m[\u001b[0m\u001b[1;36m0\u001b[0m\u001b[1;33m]\u001b[0m\u001b[1;33m)\u001b[0m\u001b[1;33m\u001b[0m\u001b[1;33m\u001b[0m\u001b[0m\n\u001b[0m\u001b[0;32m    105\u001b[0m \u001b[1;33m\u001b[0m\u001b[0m\n\u001b[0;32m    106\u001b[0m     \u001b[0mlogger\u001b[0m\u001b[1;33m.\u001b[0m\u001b[0minfo\u001b[0m\u001b[1;33m(\u001b[0m\u001b[1;34m'Creating nifti'\u001b[0m\u001b[1;33m)\u001b[0m\u001b[1;33m\u001b[0m\u001b[1;33m\u001b[0m\u001b[0m\n",
      "\u001b[1;32m~\\anaconda3\\envs\\dicom_env\\lib\\site-packages\\dicom2nifti\\common.py\u001b[0m in \u001b[0;36mcreate_affine\u001b[1;34m(sorted_dicoms)\u001b[0m\n\u001b[0;32m    695\u001b[0m     \u001b[1;31m# check if this is actually a volume and not all slices on the same location\u001b[0m\u001b[1;33m\u001b[0m\u001b[1;33m\u001b[0m\u001b[1;33m\u001b[0m\u001b[0m\n\u001b[0;32m    696\u001b[0m     \u001b[1;32mif\u001b[0m \u001b[0mnumpy\u001b[0m\u001b[1;33m.\u001b[0m\u001b[0mlinalg\u001b[0m\u001b[1;33m.\u001b[0m\u001b[0mnorm\u001b[0m\u001b[1;33m(\u001b[0m\u001b[0mstep\u001b[0m\u001b[1;33m)\u001b[0m \u001b[1;33m==\u001b[0m \u001b[1;36m0.0\u001b[0m\u001b[1;33m:\u001b[0m\u001b[1;33m\u001b[0m\u001b[1;33m\u001b[0m\u001b[0m\n\u001b[1;32m--> 697\u001b[1;33m         \u001b[1;32mraise\u001b[0m \u001b[0mConversionError\u001b[0m\u001b[1;33m(\u001b[0m\u001b[1;34m\"NOT_A_VOLUME\"\u001b[0m\u001b[1;33m)\u001b[0m\u001b[1;33m\u001b[0m\u001b[1;33m\u001b[0m\u001b[0m\n\u001b[0m\u001b[0;32m    698\u001b[0m \u001b[1;33m\u001b[0m\u001b[0m\n\u001b[0;32m    699\u001b[0m     affine = numpy.array(\n",
      "\u001b[1;31mConversionError\u001b[0m: NOT_A_VOLUME"
     ]
    }
   ],
   "source": [
    "path = \"D:/CSS/CSS 1/*\"\n",
    "\n",
    "path_out_data=\"D:/CSS/CSS 1/CSS 1 niftii\"\n",
    "path_one_folder= \"D:/CSS/CSS 1/1-cube\"\n",
    "\n",
    "#dicom2nifti.dicom_series_to_nifti(path_one_folder, os.path.join(path_out_data, '0000'+str(i+1)+'.nii'))\n",
    "\n",
    "\n",
    "for i,patient in  enumerate(glob(path)):\n",
    "    dicom2nifti.dicom_series_to_nifti(patient, os.path.join(path_out_data, '0000'+str(i+1)+'.nii'))"
   ]
  },
  {
   "cell_type": "code",
   "execution_count": 15,
   "id": "299f08c6",
   "metadata": {},
   "outputs": [
    {
     "name": "stdout",
     "output_type": "stream",
     "text": [
      "['D:/CSS/CSS 1\\\\1-cine', 'D:/CSS/CSS 1\\\\1-cube-sag', 'D:/CSS/CSS 1\\\\CSS 1 niftii']\n"
     ]
    }
   ],
   "source": [
    "path = \"D:/CSS/CSS 1/*\"\n",
    "\n",
    "path_out_data=\"D:/CSS/CSS 1/CSS 1 niftii\"\n",
    "\n",
    "print(glob(path))"
   ]
  },
  {
   "cell_type": "code",
   "execution_count": 16,
   "id": "1bdb1ad4",
   "metadata": {},
   "outputs": [
    {
     "ename": "ConversionError",
     "evalue": "NOT_A_VOLUME",
     "output_type": "error",
     "traceback": [
      "\u001b[1;31m---------------------------------------------------------------------------\u001b[0m",
      "\u001b[1;31mConversionError\u001b[0m                           Traceback (most recent call last)",
      "\u001b[1;32m<ipython-input-16-401a1ae15b78>\u001b[0m in \u001b[0;36m<module>\u001b[1;34m\u001b[0m\n\u001b[0;32m      4\u001b[0m \u001b[0mpath_one_folder\u001b[0m\u001b[1;33m=\u001b[0m \u001b[1;34m\"D:/CSS/CSS 1/1-cine\"\u001b[0m\u001b[1;33m\u001b[0m\u001b[1;33m\u001b[0m\u001b[0m\n\u001b[0;32m      5\u001b[0m \u001b[1;33m\u001b[0m\u001b[0m\n\u001b[1;32m----> 6\u001b[1;33m \u001b[0mdicom2nifti\u001b[0m\u001b[1;33m.\u001b[0m\u001b[0mdicom_series_to_nifti\u001b[0m\u001b[1;33m(\u001b[0m\u001b[0mpath_one_folder\u001b[0m\u001b[1;33m,\u001b[0m \u001b[0mos\u001b[0m\u001b[1;33m.\u001b[0m\u001b[0mpath\u001b[0m\u001b[1;33m.\u001b[0m\u001b[0mjoin\u001b[0m\u001b[1;33m(\u001b[0m\u001b[0mpath_out_data\u001b[0m\u001b[1;33m,\u001b[0m \u001b[1;34m'0000'\u001b[0m\u001b[1;33m+\u001b[0m\u001b[0mstr\u001b[0m\u001b[1;33m(\u001b[0m\u001b[0mi\u001b[0m\u001b[1;33m+\u001b[0m\u001b[1;36m1\u001b[0m\u001b[1;33m)\u001b[0m\u001b[1;33m+\u001b[0m\u001b[1;34m'.nii'\u001b[0m\u001b[1;33m)\u001b[0m\u001b[1;33m)\u001b[0m\u001b[1;33m\u001b[0m\u001b[1;33m\u001b[0m\u001b[0m\n\u001b[0m",
      "\u001b[1;32m~\\anaconda3\\envs\\dicom_env\\lib\\site-packages\\dicom2nifti\\convert_dicom.py\u001b[0m in \u001b[0;36mdicom_series_to_nifti\u001b[1;34m(original_dicom_directory, output_file, reorient_nifti)\u001b[0m\n\u001b[0;32m     75\u001b[0m         \u001b[0mdicom_input\u001b[0m \u001b[1;33m=\u001b[0m \u001b[0mcommon\u001b[0m\u001b[1;33m.\u001b[0m\u001b[0mread_dicom_directory\u001b[0m\u001b[1;33m(\u001b[0m\u001b[0mdicom_directory\u001b[0m\u001b[1;33m)\u001b[0m\u001b[1;33m\u001b[0m\u001b[1;33m\u001b[0m\u001b[0m\n\u001b[0;32m     76\u001b[0m \u001b[1;33m\u001b[0m\u001b[0m\n\u001b[1;32m---> 77\u001b[1;33m         \u001b[1;32mreturn\u001b[0m \u001b[0mdicom_array_to_nifti\u001b[0m\u001b[1;33m(\u001b[0m\u001b[0mdicom_input\u001b[0m\u001b[1;33m,\u001b[0m \u001b[0moutput_file\u001b[0m\u001b[1;33m,\u001b[0m \u001b[0mreorient_nifti\u001b[0m\u001b[1;33m)\u001b[0m\u001b[1;33m\u001b[0m\u001b[1;33m\u001b[0m\u001b[0m\n\u001b[0m\u001b[0;32m     78\u001b[0m \u001b[1;33m\u001b[0m\u001b[0m\n\u001b[0;32m     79\u001b[0m     \u001b[1;32mexcept\u001b[0m \u001b[0mAttributeError\u001b[0m \u001b[1;32mas\u001b[0m \u001b[0mexception\u001b[0m\u001b[1;33m:\u001b[0m\u001b[1;33m\u001b[0m\u001b[1;33m\u001b[0m\u001b[0m\n",
      "\u001b[1;32m~\\anaconda3\\envs\\dicom_env\\lib\\site-packages\\dicom2nifti\\convert_dicom.py\u001b[0m in \u001b[0;36mdicom_array_to_nifti\u001b[1;34m(dicom_list, output_file, reorient_nifti)\u001b[0m\n\u001b[0;32m    119\u001b[0m         \u001b[0mresults\u001b[0m \u001b[1;33m=\u001b[0m \u001b[0mconvert_siemens\u001b[0m\u001b[1;33m.\u001b[0m\u001b[0mdicom_to_nifti\u001b[0m\u001b[1;33m(\u001b[0m\u001b[0mdicom_list\u001b[0m\u001b[1;33m,\u001b[0m \u001b[0moutput_file\u001b[0m\u001b[1;33m)\u001b[0m\u001b[1;33m\u001b[0m\u001b[1;33m\u001b[0m\u001b[0m\n\u001b[0;32m    120\u001b[0m     \u001b[1;32melif\u001b[0m \u001b[0mvendor\u001b[0m \u001b[1;33m==\u001b[0m \u001b[0mVendor\u001b[0m\u001b[1;33m.\u001b[0m\u001b[0mGE\u001b[0m\u001b[1;33m:\u001b[0m\u001b[1;33m\u001b[0m\u001b[1;33m\u001b[0m\u001b[0m\n\u001b[1;32m--> 121\u001b[1;33m         \u001b[0mresults\u001b[0m \u001b[1;33m=\u001b[0m \u001b[0mconvert_ge\u001b[0m\u001b[1;33m.\u001b[0m\u001b[0mdicom_to_nifti\u001b[0m\u001b[1;33m(\u001b[0m\u001b[0mdicom_list\u001b[0m\u001b[1;33m,\u001b[0m \u001b[0moutput_file\u001b[0m\u001b[1;33m)\u001b[0m\u001b[1;33m\u001b[0m\u001b[1;33m\u001b[0m\u001b[0m\n\u001b[0m\u001b[0;32m    122\u001b[0m     \u001b[1;32melif\u001b[0m \u001b[0mvendor\u001b[0m \u001b[1;33m==\u001b[0m \u001b[0mVendor\u001b[0m\u001b[1;33m.\u001b[0m\u001b[0mPHILIPS\u001b[0m\u001b[1;33m:\u001b[0m\u001b[1;33m\u001b[0m\u001b[1;33m\u001b[0m\u001b[0m\n\u001b[0;32m    123\u001b[0m         \u001b[0mresults\u001b[0m \u001b[1;33m=\u001b[0m \u001b[0mconvert_philips\u001b[0m\u001b[1;33m.\u001b[0m\u001b[0mdicom_to_nifti\u001b[0m\u001b[1;33m(\u001b[0m\u001b[0mdicom_list\u001b[0m\u001b[1;33m,\u001b[0m \u001b[0moutput_file\u001b[0m\u001b[1;33m)\u001b[0m\u001b[1;33m\u001b[0m\u001b[1;33m\u001b[0m\u001b[0m\n",
      "\u001b[1;32m~\\anaconda3\\envs\\dicom_env\\lib\\site-packages\\dicom2nifti\\convert_ge.py\u001b[0m in \u001b[0;36mdicom_to_nifti\u001b[1;34m(dicom_input, output_file)\u001b[0m\n\u001b[0;32m     49\u001b[0m     \u001b[1;32mif\u001b[0m \u001b[0m_is_4d\u001b[0m\u001b[1;33m(\u001b[0m\u001b[0mgrouped_dicoms\u001b[0m\u001b[1;33m)\u001b[0m\u001b[1;33m:\u001b[0m\u001b[1;33m\u001b[0m\u001b[1;33m\u001b[0m\u001b[0m\n\u001b[0;32m     50\u001b[0m         \u001b[0mlogger\u001b[0m\u001b[1;33m.\u001b[0m\u001b[0minfo\u001b[0m\u001b[1;33m(\u001b[0m\u001b[1;34m'Found sequence type: 4D'\u001b[0m\u001b[1;33m)\u001b[0m\u001b[1;33m\u001b[0m\u001b[1;33m\u001b[0m\u001b[0m\n\u001b[1;32m---> 51\u001b[1;33m         \u001b[1;32mreturn\u001b[0m \u001b[0m_4d_to_nifti\u001b[0m\u001b[1;33m(\u001b[0m\u001b[0mgrouped_dicoms\u001b[0m\u001b[1;33m,\u001b[0m \u001b[0moutput_file\u001b[0m\u001b[1;33m)\u001b[0m\u001b[1;33m\u001b[0m\u001b[1;33m\u001b[0m\u001b[0m\n\u001b[0m\u001b[0;32m     52\u001b[0m \u001b[1;33m\u001b[0m\u001b[0m\n\u001b[0;32m     53\u001b[0m     \u001b[0mlogger\u001b[0m\u001b[1;33m.\u001b[0m\u001b[0minfo\u001b[0m\u001b[1;33m(\u001b[0m\u001b[1;34m'Assuming anatomical data'\u001b[0m\u001b[1;33m)\u001b[0m\u001b[1;33m\u001b[0m\u001b[1;33m\u001b[0m\u001b[0m\n",
      "\u001b[1;32m~\\anaconda3\\envs\\dicom_env\\lib\\site-packages\\dicom2nifti\\convert_ge.py\u001b[0m in \u001b[0;36m_4d_to_nifti\u001b[1;34m(grouped_dicoms, output_file)\u001b[0m\n\u001b[0;32m    102\u001b[0m     \u001b[0mlogger\u001b[0m\u001b[1;33m.\u001b[0m\u001b[0minfo\u001b[0m\u001b[1;33m(\u001b[0m\u001b[1;34m'Creating affine'\u001b[0m\u001b[1;33m)\u001b[0m\u001b[1;33m\u001b[0m\u001b[1;33m\u001b[0m\u001b[0m\n\u001b[0;32m    103\u001b[0m     \u001b[1;31m# Create the nifti header info\u001b[0m\u001b[1;33m\u001b[0m\u001b[1;33m\u001b[0m\u001b[1;33m\u001b[0m\u001b[0m\n\u001b[1;32m--> 104\u001b[1;33m     \u001b[0maffine\u001b[0m\u001b[1;33m,\u001b[0m \u001b[0mslice_increment\u001b[0m \u001b[1;33m=\u001b[0m \u001b[0mcommon\u001b[0m\u001b[1;33m.\u001b[0m\u001b[0mcreate_affine\u001b[0m\u001b[1;33m(\u001b[0m\u001b[0mgrouped_dicoms\u001b[0m\u001b[1;33m[\u001b[0m\u001b[1;36m0\u001b[0m\u001b[1;33m]\u001b[0m\u001b[1;33m)\u001b[0m\u001b[1;33m\u001b[0m\u001b[1;33m\u001b[0m\u001b[0m\n\u001b[0m\u001b[0;32m    105\u001b[0m \u001b[1;33m\u001b[0m\u001b[0m\n\u001b[0;32m    106\u001b[0m     \u001b[0mlogger\u001b[0m\u001b[1;33m.\u001b[0m\u001b[0minfo\u001b[0m\u001b[1;33m(\u001b[0m\u001b[1;34m'Creating nifti'\u001b[0m\u001b[1;33m)\u001b[0m\u001b[1;33m\u001b[0m\u001b[1;33m\u001b[0m\u001b[0m\n",
      "\u001b[1;32m~\\anaconda3\\envs\\dicom_env\\lib\\site-packages\\dicom2nifti\\common.py\u001b[0m in \u001b[0;36mcreate_affine\u001b[1;34m(sorted_dicoms)\u001b[0m\n\u001b[0;32m    695\u001b[0m     \u001b[1;31m# check if this is actually a volume and not all slices on the same location\u001b[0m\u001b[1;33m\u001b[0m\u001b[1;33m\u001b[0m\u001b[1;33m\u001b[0m\u001b[0m\n\u001b[0;32m    696\u001b[0m     \u001b[1;32mif\u001b[0m \u001b[0mnumpy\u001b[0m\u001b[1;33m.\u001b[0m\u001b[0mlinalg\u001b[0m\u001b[1;33m.\u001b[0m\u001b[0mnorm\u001b[0m\u001b[1;33m(\u001b[0m\u001b[0mstep\u001b[0m\u001b[1;33m)\u001b[0m \u001b[1;33m==\u001b[0m \u001b[1;36m0.0\u001b[0m\u001b[1;33m:\u001b[0m\u001b[1;33m\u001b[0m\u001b[1;33m\u001b[0m\u001b[0m\n\u001b[1;32m--> 697\u001b[1;33m         \u001b[1;32mraise\u001b[0m \u001b[0mConversionError\u001b[0m\u001b[1;33m(\u001b[0m\u001b[1;34m\"NOT_A_VOLUME\"\u001b[0m\u001b[1;33m)\u001b[0m\u001b[1;33m\u001b[0m\u001b[1;33m\u001b[0m\u001b[0m\n\u001b[0m\u001b[0;32m    698\u001b[0m \u001b[1;33m\u001b[0m\u001b[0m\n\u001b[0;32m    699\u001b[0m     affine = numpy.array(\n",
      "\u001b[1;31mConversionError\u001b[0m: NOT_A_VOLUME"
     ]
    }
   ],
   "source": [
    "path = \"D:/CSS/CSS 1/*\"\n",
    "\n",
    "path_out_data=\"D:/CSS/CSS 1/CSS 1 niftii\"\n",
    "path_one_folder= \"D:/CSS/CSS 1/1-cine\"\n",
    "\n",
    "dicom2nifti.dicom_series_to_nifti(path_one_folder, os.path.join(path_out_data, '0000'+str(i+1)+'.nii'))"
   ]
  },
  {
   "cell_type": "code",
   "execution_count": 19,
   "id": "37fdca07",
   "metadata": {},
   "outputs": [],
   "source": [
    "import pydicom\n",
    "import os\n",
    "\n",
    "# Create a dictionary to store file paths and their metadata\n",
    "dicom_files = {}\n",
    "\n",
    "# Specify the directory containing DICOM files\n",
    "directory_path = \"D:\\CSS\\CSS 1\\1-cine\"\n",
    "\n",
    "# Iterate through DICOM files in the directory\n",
    "for root, dirs, files in os.walk(directory_path):\n",
    "    for file_name in files:\n",
    "        if file_name.endswith(\".dcm\"):\n",
    "            file_path = os.path.join(root, file_name)\n",
    "            # Read the DICOM file\n",
    "            ds = pydicom.dcmread(file_path)\n",
    "            # Extract metadata to compare (e.g., patient ID and study date)\n",
    "            key = (ds.PatientID, ds.StudyDate)\n",
    "            if key in dicom_files:\n",
    "                print(f\"Duplicate files found: {file_path} and {dicom_files[key]}\")\n",
    "            else:\n",
    "                dicom_files[key] = file_path\n"
   ]
  },
  {
   "cell_type": "code",
   "execution_count": null,
   "id": "39d02bc4",
   "metadata": {},
   "outputs": [],
   "source": []
  }
 ],
 "metadata": {
  "kernelspec": {
   "display_name": "Python 3",
   "language": "python",
   "name": "python3"
  },
  "language_info": {
   "codemirror_mode": {
    "name": "ipython",
    "version": 3
   },
   "file_extension": ".py",
   "mimetype": "text/x-python",
   "name": "python",
   "nbconvert_exporter": "python",
   "pygments_lexer": "ipython3",
   "version": "3.6.13"
  }
 },
 "nbformat": 4,
 "nbformat_minor": 5
}
